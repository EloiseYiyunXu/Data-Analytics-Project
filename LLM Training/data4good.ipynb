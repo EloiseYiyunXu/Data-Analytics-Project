{
 "cells": [
  {
   "cell_type": "code",
   "execution_count": 2,
   "metadata": {
    "collapsed": true,
    "jupyter": {
     "outputs_hidden": true
    },
    "ExecuteTime": {
     "end_time": "2023-11-11T11:23:01.548270300Z",
     "start_time": "2023-11-11T11:22:59.749923500Z"
    }
   },
   "outputs": [],
   "source": [
    "import os\n",
    "import openai\n",
    "import json\n",
    "import pandas as pd"
   ]
  },
  {
   "cell_type": "code",
   "execution_count": 3,
   "metadata": {
    "collapsed": false,
    "jupyter": {
     "outputs_hidden": false
    },
    "ExecuteTime": {
     "end_time": "2023-11-11T11:23:15.266644Z",
     "start_time": "2023-11-11T11:23:15.255651800Z"
    }
   },
   "outputs": [],
   "source": [
    "openai.api_base = \"http://localhost:1234/v1\" # point to the local server\n",
    "openai.api_key = \"\" # no need for an API key"
   ]
  },
  {
   "cell_type": "code",
   "execution_count": 4,
   "metadata": {
    "collapsed": false,
    "jupyter": {
     "outputs_hidden": false
    },
    "ExecuteTime": {
     "end_time": "2023-11-11T11:23:17.105853200Z",
     "start_time": "2023-11-11T11:23:17.077184700Z"
    }
   },
   "outputs": [
    {
     "data": {
      "text/plain": "'Durante la visita, examiné a Angelina Thompson, una paciente de 74 años, que presentó una infección por hongos. Los síntomas incluían erupciones cutáneas anodales, parches dischromic y una erupción cutánea. Basado en los síntomas, confirmé que la paciente tenía una infección por hongos.\\n\\nPara prevenir la propagación adicional de la infección, le aconsejé a Angelina que se bañara dos veces al día, usara detol o neem en el agua del baño, mantuviera la zona infectada seca y usara ropa limpia. No receté ningún medicamento, ya que las precauciones deben ser suficientes para manejar la infección.\\n\\nEn general, la visita se centró en brindar orientación a la paciente sobre cómo manejar su infección por hongos a través de precauciones y medidas preventivas.'"
     },
     "execution_count": 4,
     "metadata": {},
     "output_type": "execute_result"
    }
   ],
   "source": [
    "with open('transcripts.json') as f:\n",
    "  transcripts = json.load(f)\n",
    "\n",
    "transcripts['1']"
   ]
  },
  {
   "cell_type": "code",
   "execution_count": 5,
   "metadata": {
    "collapsed": false,
    "jupyter": {
     "outputs_hidden": false
    },
    "ExecuteTime": {
     "end_time": "2023-11-11T11:23:20.306524Z",
     "start_time": "2023-11-11T11:23:20.251819800Z"
    }
   },
   "outputs": [
    {
     "data": {
      "text/plain": "                                      Id  Transcript  \\\n0   587d0feb-5780-43e1-9595-e19d4b31dc07        2055   \n1   263e8884-e8ba-4266-bb0c-85271419a0b3        2055   \n2   74c68eca-61b2-49d0-9b1c-0f6f886b04ff        2055   \n3   8572ab5d-f20a-4de5-ab44-f42b07e45a00        2055   \n4   f5c92075-ef05-4fbf-a7a0-aa86c586ff02        2055   \n5   03406fb0-e67d-4614-a745-ed02c7ac6c46        2055   \n6   1f0abde6-83ac-4e8f-b06f-9c9ff72beb88         291   \n7   8ce89aa4-9d9c-4174-8e5e-957efbf41256         291   \n8   08862b5d-dbc0-4ea1-884c-329eec085ff6         291   \n9   2f9bb4d6-8694-478e-a7f0-83ba534673de         291   \n10  2c9319fe-be47-4b0c-aca6-6dca2d4038e8         291   \n11  2bf6c1ea-5eff-409f-b8c7-a8a9ba82fe22         291   \n12  3f1e45b9-e427-4f0c-abb0-df6ad2361ada         102   \n\n                                      Question  \n0                  What is the patient's name?  \n1                   What is the patient's age?  \n2             What is the patient's condition?  \n3   What symptoms is the patient experiencing?  \n4      What precautions did the doctor advise?  \n5          What drug did the doctor prescribe?  \n6                  What is the patient's name?  \n7                   What is the patient's age?  \n8             What is the patient's condition?  \n9   What symptoms is the patient experiencing?  \n10     What precautions did the doctor advise?  \n11         What drug did the doctor prescribe?  \n12                 What is the patient's name?  ",
      "text/html": "<div>\n<style scoped>\n    .dataframe tbody tr th:only-of-type {\n        vertical-align: middle;\n    }\n\n    .dataframe tbody tr th {\n        vertical-align: top;\n    }\n\n    .dataframe thead th {\n        text-align: right;\n    }\n</style>\n<table border=\"1\" class=\"dataframe\">\n  <thead>\n    <tr style=\"text-align: right;\">\n      <th></th>\n      <th>Id</th>\n      <th>Transcript</th>\n      <th>Question</th>\n    </tr>\n  </thead>\n  <tbody>\n    <tr>\n      <th>0</th>\n      <td>587d0feb-5780-43e1-9595-e19d4b31dc07</td>\n      <td>2055</td>\n      <td>What is the patient's name?</td>\n    </tr>\n    <tr>\n      <th>1</th>\n      <td>263e8884-e8ba-4266-bb0c-85271419a0b3</td>\n      <td>2055</td>\n      <td>What is the patient's age?</td>\n    </tr>\n    <tr>\n      <th>2</th>\n      <td>74c68eca-61b2-49d0-9b1c-0f6f886b04ff</td>\n      <td>2055</td>\n      <td>What is the patient's condition?</td>\n    </tr>\n    <tr>\n      <th>3</th>\n      <td>8572ab5d-f20a-4de5-ab44-f42b07e45a00</td>\n      <td>2055</td>\n      <td>What symptoms is the patient experiencing?</td>\n    </tr>\n    <tr>\n      <th>4</th>\n      <td>f5c92075-ef05-4fbf-a7a0-aa86c586ff02</td>\n      <td>2055</td>\n      <td>What precautions did the doctor advise?</td>\n    </tr>\n    <tr>\n      <th>5</th>\n      <td>03406fb0-e67d-4614-a745-ed02c7ac6c46</td>\n      <td>2055</td>\n      <td>What drug did the doctor prescribe?</td>\n    </tr>\n    <tr>\n      <th>6</th>\n      <td>1f0abde6-83ac-4e8f-b06f-9c9ff72beb88</td>\n      <td>291</td>\n      <td>What is the patient's name?</td>\n    </tr>\n    <tr>\n      <th>7</th>\n      <td>8ce89aa4-9d9c-4174-8e5e-957efbf41256</td>\n      <td>291</td>\n      <td>What is the patient's age?</td>\n    </tr>\n    <tr>\n      <th>8</th>\n      <td>08862b5d-dbc0-4ea1-884c-329eec085ff6</td>\n      <td>291</td>\n      <td>What is the patient's condition?</td>\n    </tr>\n    <tr>\n      <th>9</th>\n      <td>2f9bb4d6-8694-478e-a7f0-83ba534673de</td>\n      <td>291</td>\n      <td>What symptoms is the patient experiencing?</td>\n    </tr>\n    <tr>\n      <th>10</th>\n      <td>2c9319fe-be47-4b0c-aca6-6dca2d4038e8</td>\n      <td>291</td>\n      <td>What precautions did the doctor advise?</td>\n    </tr>\n    <tr>\n      <th>11</th>\n      <td>2bf6c1ea-5eff-409f-b8c7-a8a9ba82fe22</td>\n      <td>291</td>\n      <td>What drug did the doctor prescribe?</td>\n    </tr>\n    <tr>\n      <th>12</th>\n      <td>3f1e45b9-e427-4f0c-abb0-df6ad2361ada</td>\n      <td>102</td>\n      <td>What is the patient's name?</td>\n    </tr>\n  </tbody>\n</table>\n</div>"
     },
     "execution_count": 5,
     "metadata": {},
     "output_type": "execute_result"
    }
   ],
   "source": [
    "test = pd.read_csv('test.csv')\n",
    "test.head(13)"
   ]
  },
  {
   "cell_type": "code",
   "execution_count": 19,
   "metadata": {
    "collapsed": false,
    "jupyter": {
     "outputs_hidden": false
    },
    "ExecuteTime": {
     "end_time": "2023-11-12T00:05:48.755829300Z",
     "start_time": "2023-11-12T00:05:48.739318400Z"
    }
   },
   "outputs": [
    {
     "data": {
      "text/plain": "'D: शुभ प्रभात, थॉमस जी। आज मुझे आपकी कैसे सहायता कर सकते हैं? \\n\\nP: शुभ प्रभात, डॉक्टर। मुझे अपने लम्बरों में कमजोरी, चक्कर आना और गले में दर्द के बारे में अनेक दिनों से तक समस्या है। \\n\\nD: महसूस हो रहा है, थॉमस जी। आपके लक्षणों और आपकी उम्र के आधार पर, मैं आशा कर रहा हूं कि आपको सर्विकल स्पॉन्डिलोसिस हो सकती है। \\n\\nP: यह क्या है, डॉक्टर? \\n\\nD: सर्विकल स्पॉन्डिलोसिस एक ऐसा स्थिति है जो आपके गले के हिस्से को प्रभावित करता है, जो आपके गले का हिस्सा है। यह 60 साल से ऊपर के लोगों में आम है और यह आपके गले में दर्द और स्टिफ़नस की वजह से हो सकता है, जैसे ही आपके लम्बरों में कमजोरी और नम्बर्स का महसूस हो सकता है। \\n\\nP: ओह, मैं समझ गया। क्या मुझे अच्छे से महसूस करने के लिए'"
     },
     "execution_count": 19,
     "metadata": {},
     "output_type": "execute_result"
    }
   ],
   "source": [
    "transcript = transcripts['3538']\n",
    "transcript"
   ]
  },
  {
   "cell_type": "code",
   "execution_count": 20,
   "metadata": {
    "collapsed": false,
    "jupyter": {
     "outputs_hidden": false
    },
    "ExecuteTime": {
     "end_time": "2023-11-12T00:05:53.284403300Z",
     "start_time": "2023-11-12T00:05:53.269245200Z"
    }
   },
   "outputs": [
    {
     "data": {
      "text/plain": "                                      Id  Transcript  \\\n36  c1c3b8d3-3815-407b-a403-c33c9a8393d0        3538   \n37  fa4021d6-1713-4e76-adbe-064480be6cff        3538   \n38  c0ec170c-bde4-4e77-98f8-33855b134611        3538   \n39  8697aeb8-bb36-4171-b2bc-ee1f1804911b        3538   \n40  b8497593-2536-468d-a260-070d1c1084f6        3538   \n41  a6ecf101-3688-4852-b226-96b510934c62        3538   \n\n                                      Question  \n36                 What is the patient's name?  \n37                  What is the patient's age?  \n38            What is the patient's condition?  \n39  What symptoms is the patient experiencing?  \n40     What precautions did the doctor advise?  \n41         What drug did the doctor prescribe?  ",
      "text/html": "<div>\n<style scoped>\n    .dataframe tbody tr th:only-of-type {\n        vertical-align: middle;\n    }\n\n    .dataframe tbody tr th {\n        vertical-align: top;\n    }\n\n    .dataframe thead th {\n        text-align: right;\n    }\n</style>\n<table border=\"1\" class=\"dataframe\">\n  <thead>\n    <tr style=\"text-align: right;\">\n      <th></th>\n      <th>Id</th>\n      <th>Transcript</th>\n      <th>Question</th>\n    </tr>\n  </thead>\n  <tbody>\n    <tr>\n      <th>36</th>\n      <td>c1c3b8d3-3815-407b-a403-c33c9a8393d0</td>\n      <td>3538</td>\n      <td>What is the patient's name?</td>\n    </tr>\n    <tr>\n      <th>37</th>\n      <td>fa4021d6-1713-4e76-adbe-064480be6cff</td>\n      <td>3538</td>\n      <td>What is the patient's age?</td>\n    </tr>\n    <tr>\n      <th>38</th>\n      <td>c0ec170c-bde4-4e77-98f8-33855b134611</td>\n      <td>3538</td>\n      <td>What is the patient's condition?</td>\n    </tr>\n    <tr>\n      <th>39</th>\n      <td>8697aeb8-bb36-4171-b2bc-ee1f1804911b</td>\n      <td>3538</td>\n      <td>What symptoms is the patient experiencing?</td>\n    </tr>\n    <tr>\n      <th>40</th>\n      <td>b8497593-2536-468d-a260-070d1c1084f6</td>\n      <td>3538</td>\n      <td>What precautions did the doctor advise?</td>\n    </tr>\n    <tr>\n      <th>41</th>\n      <td>a6ecf101-3688-4852-b226-96b510934c62</td>\n      <td>3538</td>\n      <td>What drug did the doctor prescribe?</td>\n    </tr>\n  </tbody>\n</table>\n</div>"
     },
     "execution_count": 20,
     "metadata": {},
     "output_type": "execute_result"
    }
   ],
   "source": [
    "question = test[test['Transcript']==3538]\n",
    "question"
   ]
  },
  {
   "cell_type": "code",
   "execution_count": 8,
   "metadata": {
    "collapsed": false,
    "jupyter": {
     "outputs_hidden": false
    },
    "ExecuteTime": {
     "end_time": "2023-11-11T11:23:27.899347500Z",
     "start_time": "2023-11-11T11:23:27.889416300Z"
    }
   },
   "outputs": [],
   "source": [
    "def chat_ans(transcript_cht, question_cht):\n",
    "  response_temp = openai.ChatCompletion.create(\n",
    "  model=\"local-model\", # this field is currently unused\n",
    "  messages=[\n",
    "    {\"role\": \"system\", \"content\": \"If you get transcript is not english, translate the script to english first and then answer the question. You are a doctor assistant to answer question with doctor note and conversation without makeup any information. You will answer all the question with information as short as possible. You HAVE to use the information I have provided. If you cannot find information from the text I provided, output N/A. If you get transcript other than english, translate the script to english first.\"},\n",
    "    {\"role\": \"user\", \"content\": f\"Now, DO NOT use any information above, Only use this transcript to answer question:### Input {transcript_cht}. The question is {question_cht}\" },\n",
    "  ],\n",
    "  temperature = 0,\n",
    "  max_tokens= 100,\n",
    "  )\n",
    "  return response_temp.choices[0].message.content"
   ]
  },
  {
   "cell_type": "code",
   "execution_count": 22,
   "metadata": {
    "collapsed": false,
    "jupyter": {
     "outputs_hidden": false
    },
    "ExecuteTime": {
     "end_time": "2023-11-12T00:09:12.057471300Z",
     "start_time": "2023-11-12T00:09:02.867680100Z"
    }
   },
   "outputs": [
    {
     "data": {
      "text/plain": "\"The patient's name is Shubh.\""
     },
     "execution_count": 22,
     "metadata": {},
     "output_type": "execute_result"
    }
   ],
   "source": [
    "a = chat_ans(transcript_cht = transcript, question_cht = question.iloc[0,2])\n",
    "a"
   ]
  },
  {
   "cell_type": "code",
   "execution_count": 10,
   "metadata": {
    "collapsed": false,
    "jupyter": {
     "outputs_hidden": false
    },
    "ExecuteTime": {
     "end_time": "2023-11-11T11:23:40.595097700Z",
     "start_time": "2023-11-11T11:23:40.585092800Z"
    }
   },
   "outputs": [],
   "source": [
    "def pat_info(transcript_pat,question_pat):\n",
    "  i=0\n",
    "  temp_df = pd.DataFrame()\n",
    "  for i in range(len(question_pat)):\n",
    "    temp = chat_ans(transcript_cht = transcript_pat, question_cht= question_pat.iloc[i,2])\n",
    "    temp_df.loc[len(temp_df),0] = question_pat.iloc[i,0]\n",
    "    temp_df.loc[i,1] = temp\n",
    "  return temp_df"
   ]
  },
  {
   "cell_type": "code",
   "execution_count": 11,
   "metadata": {
    "collapsed": false,
    "jupyter": {
     "outputs_hidden": false
    },
    "ExecuteTime": {
     "end_time": "2023-11-11T11:23:46.303831500Z",
     "start_time": "2023-11-11T11:23:46.292948600Z"
    }
   },
   "outputs": [
    {
     "data": {
      "text/plain": "                                     Id  Transcript  \\\n0  587d0feb-5780-43e1-9595-e19d4b31dc07        2055   \n1  263e8884-e8ba-4266-bb0c-85271419a0b3        2055   \n2  74c68eca-61b2-49d0-9b1c-0f6f886b04ff        2055   \n3  8572ab5d-f20a-4de5-ab44-f42b07e45a00        2055   \n4  f5c92075-ef05-4fbf-a7a0-aa86c586ff02        2055   \n5  03406fb0-e67d-4614-a745-ed02c7ac6c46        2055   \n\n                                     Question  \n0                 What is the patient's name?  \n1                  What is the patient's age?  \n2            What is the patient's condition?  \n3  What symptoms is the patient experiencing?  \n4     What precautions did the doctor advise?  \n5         What drug did the doctor prescribe?  ",
      "text/html": "<div>\n<style scoped>\n    .dataframe tbody tr th:only-of-type {\n        vertical-align: middle;\n    }\n\n    .dataframe tbody tr th {\n        vertical-align: top;\n    }\n\n    .dataframe thead th {\n        text-align: right;\n    }\n</style>\n<table border=\"1\" class=\"dataframe\">\n  <thead>\n    <tr style=\"text-align: right;\">\n      <th></th>\n      <th>Id</th>\n      <th>Transcript</th>\n      <th>Question</th>\n    </tr>\n  </thead>\n  <tbody>\n    <tr>\n      <th>0</th>\n      <td>587d0feb-5780-43e1-9595-e19d4b31dc07</td>\n      <td>2055</td>\n      <td>What is the patient's name?</td>\n    </tr>\n    <tr>\n      <th>1</th>\n      <td>263e8884-e8ba-4266-bb0c-85271419a0b3</td>\n      <td>2055</td>\n      <td>What is the patient's age?</td>\n    </tr>\n    <tr>\n      <th>2</th>\n      <td>74c68eca-61b2-49d0-9b1c-0f6f886b04ff</td>\n      <td>2055</td>\n      <td>What is the patient's condition?</td>\n    </tr>\n    <tr>\n      <th>3</th>\n      <td>8572ab5d-f20a-4de5-ab44-f42b07e45a00</td>\n      <td>2055</td>\n      <td>What symptoms is the patient experiencing?</td>\n    </tr>\n    <tr>\n      <th>4</th>\n      <td>f5c92075-ef05-4fbf-a7a0-aa86c586ff02</td>\n      <td>2055</td>\n      <td>What precautions did the doctor advise?</td>\n    </tr>\n    <tr>\n      <th>5</th>\n      <td>03406fb0-e67d-4614-a745-ed02c7ac6c46</td>\n      <td>2055</td>\n      <td>What drug did the doctor prescribe?</td>\n    </tr>\n  </tbody>\n</table>\n</div>"
     },
     "execution_count": 11,
     "metadata": {},
     "output_type": "execute_result"
    }
   ],
   "source": [
    "test[test['Transcript']==2055]"
   ]
  },
  {
   "cell_type": "code",
   "execution_count": 18,
   "outputs": [
    {
     "data": {
      "text/plain": "'D: शुभ प्रभात, थॉमस जी। आज मुझे आपकी कैसे सहायता कर सकते हैं? \\n\\nP: शुभ प्रभात, डॉक्टर। मुझे अपने लम्बरों में कमजोरी, चक्कर आना और गले में दर्द के बारे में अनेक दिनों से तक समस्या है। \\n\\nD: महसूस हो रहा है, थॉमस जी। आपके लक्षणों और आपकी उम्र के आधार पर, मैं आशा कर रहा हूं कि आपको सर्विकल स्पॉन्डिलोसिस हो सकती है। \\n\\nP: यह क्या है, डॉक्टर? \\n\\nD: सर्विकल स्पॉन्डिलोसिस एक ऐसा स्थिति है जो आपके गले के हिस्से को प्रभावित करता है, जो आपके गले का हिस्सा है। यह 60 साल से ऊपर के लोगों में आम है और यह आपके गले में दर्द और स्टिफ़नस की वजह से हो सकता है, जैसे ही आपके लम्बरों में कमजोरी और नम्बर्स का महसूस हो सकता है। \\n\\nP: ओह, मैं समझ गया। क्या मुझे अच्छे से महसूस करने के लिए'"
     },
     "execution_count": 18,
     "metadata": {},
     "output_type": "execute_result"
    }
   ],
   "source": [
    "transcripts['3538']"
   ],
   "metadata": {
    "collapsed": false,
    "ExecuteTime": {
     "end_time": "2023-11-12T00:05:14.601163Z",
     "start_time": "2023-11-12T00:05:14.593656200Z"
    }
   }
  },
  {
   "cell_type": "code",
   "execution_count": 17,
   "metadata": {
    "collapsed": false,
    "jupyter": {
     "outputs_hidden": false
    },
    "ExecuteTime": {
     "end_time": "2023-11-12T00:05:09.203034500Z",
     "start_time": "2023-11-12T00:05:09.191253700Z"
    }
   },
   "outputs": [
    {
     "data": {
      "text/plain": "3538"
     },
     "execution_count": 17,
     "metadata": {},
     "output_type": "execute_result"
    }
   ],
   "source": [
    "trans_id = test.iloc[39,1]\n",
    "trans_id"
   ]
  },
  {
   "cell_type": "code",
   "execution_count": 13,
   "outputs": [],
   "source": [
    "result_df = pd.DataFrame()\n",
    "x=0"
   ],
   "metadata": {
    "collapsed": false,
    "ExecuteTime": {
     "end_time": "2023-11-11T11:23:52.438729100Z",
     "start_time": "2023-11-11T11:23:52.430222Z"
    }
   }
  },
  {
   "cell_type": "code",
   "execution_count": 14,
   "metadata": {
    "collapsed": false,
    "jupyter": {
     "outputs_hidden": false
    },
    "ExecuteTime": {
     "end_time": "2023-11-11T14:54:30.969981100Z",
     "start_time": "2023-11-11T11:23:54.595419900Z"
    }
   },
   "outputs": [
    {
     "name": "stdout",
     "output_type": "stream",
     "text": [
      "9000\n",
      "9006\n",
      "9012\n",
      "9018\n",
      "9024\n",
      "9030\n",
      "9036\n",
      "9042\n",
      "9048\n",
      "9054\n",
      "9060\n",
      "9066\n",
      "9072\n",
      "9078\n",
      "9084\n",
      "9090\n",
      "9096\n",
      "9102\n",
      "9108\n",
      "9114\n",
      "9120\n",
      "9126\n",
      "9132\n",
      "9138\n",
      "9144\n",
      "9150\n",
      "9156\n",
      "9162\n",
      "9168\n",
      "9174\n",
      "9180\n",
      "9186\n",
      "9192\n",
      "9198\n",
      "9204\n",
      "9210\n",
      "9216\n",
      "9222\n",
      "9228\n",
      "9234\n",
      "9240\n",
      "9246\n",
      "9252\n",
      "9258\n",
      "9264\n",
      "9270\n",
      "9276\n",
      "9282\n",
      "9288\n",
      "9294\n",
      "9300\n",
      "9306\n",
      "9312\n",
      "9318\n",
      "9324\n",
      "9330\n",
      "9336\n",
      "9342\n",
      "9348\n",
      "9354\n",
      "9360\n",
      "9366\n",
      "9372\n",
      "9378\n",
      "9384\n",
      "9390\n",
      "9396\n",
      "9402\n",
      "9408\n",
      "9414\n",
      "9420\n",
      "9426\n",
      "9432\n",
      "9438\n",
      "9444\n",
      "9450\n",
      "9456\n",
      "9462\n",
      "9468\n",
      "9474\n",
      "9480\n",
      "9486\n",
      "9492\n",
      "9498\n",
      "9504\n",
      "9510\n",
      "9516\n",
      "9522\n",
      "9528\n",
      "9534\n",
      "9540\n",
      "9546\n",
      "9552\n",
      "9558\n",
      "9564\n",
      "9570\n",
      "9576\n",
      "9582\n",
      "9588\n",
      "9594\n",
      "9600\n",
      "9606\n",
      "9612\n",
      "9618\n",
      "9624\n",
      "9630\n",
      "9636\n",
      "9642\n",
      "9648\n",
      "9654\n",
      "9660\n",
      "9666\n",
      "9672\n",
      "9678\n",
      "9684\n",
      "9690\n",
      "9696\n",
      "9702\n",
      "9708\n",
      "9714\n",
      "9720\n",
      "9726\n",
      "9732\n",
      "9738\n",
      "9744\n",
      "9750\n",
      "9756\n",
      "9762\n",
      "9768\n",
      "9774\n",
      "9780\n",
      "9786\n",
      "9792\n",
      "9798\n",
      "9804\n",
      "9810\n",
      "9816\n",
      "9822\n",
      "9828\n",
      "9834\n",
      "9840\n",
      "9846\n",
      "9852\n",
      "9858\n",
      "9864\n",
      "9870\n",
      "9876\n",
      "9882\n",
      "9888\n",
      "9894\n",
      "9900\n",
      "9906\n",
      "9912\n",
      "9918\n",
      "9924\n",
      "9930\n",
      "9936\n",
      "9942\n",
      "9948\n",
      "9954\n",
      "9960\n",
      "9966\n",
      "9972\n",
      "9978\n",
      "9984\n",
      "9990\n",
      "9996\n",
      "10002\n",
      "10008\n",
      "10014\n",
      "10020\n",
      "10026\n",
      "10032\n",
      "10038\n",
      "10044\n",
      "10050\n",
      "10056\n",
      "10062\n",
      "10068\n",
      "10074\n",
      "10080\n",
      "10086\n",
      "10092\n",
      "10098\n",
      "10104\n",
      "10110\n",
      "10116\n",
      "10122\n",
      "10128\n",
      "10134\n",
      "10140\n",
      "10146\n",
      "10152\n",
      "10158\n",
      "10164\n",
      "10170\n",
      "10176\n",
      "10182\n",
      "10188\n",
      "10194\n",
      "10200\n",
      "10206\n",
      "10212\n",
      "10218\n",
      "10224\n",
      "10230\n",
      "10236\n",
      "10242\n",
      "10248\n",
      "10254\n",
      "10260\n",
      "10266\n",
      "10272\n",
      "10278\n",
      "10284\n",
      "10290\n",
      "10296\n",
      "10302\n",
      "10308\n",
      "10314\n",
      "10320\n",
      "10326\n",
      "10332\n",
      "10338\n",
      "10344\n",
      "10350\n",
      "10356\n",
      "10362\n",
      "10368\n",
      "10374\n",
      "10380\n",
      "10386\n",
      "10392\n",
      "10398\n",
      "10404\n",
      "10410\n",
      "10416\n",
      "10422\n",
      "10428\n",
      "10434\n",
      "10440\n",
      "10446\n",
      "10452\n",
      "10458\n",
      "10464\n",
      "10470\n",
      "10476\n",
      "10482\n",
      "10488\n",
      "10494\n",
      "10500\n",
      "10506\n",
      "10512\n",
      "10518\n",
      "10524\n",
      "10530\n",
      "10536\n",
      "10542\n",
      "10548\n",
      "10554\n",
      "10560\n",
      "10566\n",
      "10572\n",
      "10578\n",
      "10584\n",
      "10590\n",
      "10596\n",
      "10602\n",
      "10608\n",
      "10614\n",
      "10620\n",
      "10626\n",
      "10632\n",
      "10638\n",
      "10644\n",
      "10650\n",
      "10656\n",
      "10662\n",
      "10668\n",
      "10674\n",
      "10680\n",
      "10686\n",
      "10692\n",
      "10698\n",
      "10704\n",
      "10710\n",
      "10716\n",
      "10722\n",
      "10728\n",
      "10734\n",
      "10740\n",
      "10746\n",
      "10752\n",
      "10758\n",
      "10764\n",
      "10770\n",
      "10776\n",
      "10782\n",
      "10788\n",
      "10794\n",
      "10800\n",
      "10806\n",
      "10812\n",
      "10818\n",
      "10824\n",
      "10830\n",
      "10836\n",
      "10842\n",
      "10848\n",
      "10854\n",
      "10860\n",
      "10866\n",
      "10872\n",
      "10878\n",
      "10884\n",
      "10890\n",
      "10896\n",
      "10902\n",
      "10908\n",
      "10914\n",
      "10920\n",
      "10926\n",
      "10932\n",
      "10938\n",
      "10944\n",
      "10950\n",
      "10956\n",
      "10962\n",
      "10968\n",
      "10974\n",
      "10980\n",
      "10986\n",
      "10992\n",
      "10998\n",
      "11004\n",
      "11010\n",
      "11016\n",
      "11022\n",
      "11028\n",
      "11034\n",
      "11040\n",
      "11046\n",
      "11052\n",
      "11058\n",
      "11064\n",
      "11070\n",
      "11076\n",
      "11082\n",
      "11088\n",
      "11094\n",
      "11100\n",
      "11106\n",
      "11112\n",
      "11118\n",
      "11124\n",
      "11130\n",
      "11136\n",
      "11142\n",
      "11148\n",
      "11154\n",
      "11160\n",
      "11166\n",
      "11172\n",
      "11178\n",
      "11184\n",
      "11190\n",
      "11196\n",
      "11202\n",
      "11208\n",
      "11214\n",
      "11220\n",
      "11226\n",
      "11232\n",
      "11238\n",
      "11244\n",
      "11250\n",
      "11256\n",
      "11262\n",
      "11268\n",
      "11274\n",
      "11280\n",
      "11286\n",
      "11292\n",
      "11298\n",
      "11304\n",
      "11310\n",
      "11316\n",
      "11322\n",
      "11328\n",
      "11334\n",
      "11340\n",
      "11346\n",
      "11352\n",
      "11358\n",
      "11364\n",
      "11370\n",
      "11376\n",
      "11382\n",
      "11388\n",
      "11394\n",
      "11400\n",
      "11406\n",
      "11412\n",
      "11418\n",
      "11424\n",
      "11430\n",
      "11436\n",
      "11442\n",
      "11448\n",
      "11454\n",
      "11460\n",
      "11466\n",
      "11472\n",
      "11478\n",
      "11484\n",
      "11490\n",
      "11496\n",
      "11502\n",
      "11508\n",
      "11514\n",
      "11520\n",
      "11526\n",
      "11532\n",
      "11538\n",
      "11544\n",
      "11550\n",
      "11556\n",
      "11562\n",
      "11568\n",
      "11574\n",
      "11580\n",
      "11586\n",
      "11592\n",
      "11598\n",
      "11604\n",
      "11610\n",
      "11616\n",
      "11622\n",
      "11628\n",
      "11634\n",
      "11640\n",
      "11646\n",
      "11652\n",
      "11658\n",
      "11664\n",
      "11670\n",
      "11676\n",
      "11682\n",
      "11688\n",
      "11694\n",
      "11700\n",
      "11706\n",
      "11712\n",
      "11718\n",
      "11724\n",
      "11730\n",
      "11736\n",
      "11742\n",
      "11748\n",
      "11754\n",
      "11760\n",
      "11766\n",
      "11772\n",
      "11778\n",
      "11784\n",
      "11790\n",
      "11796\n",
      "11802\n",
      "11808\n",
      "11814\n",
      "11820\n",
      "11826\n",
      "11832\n",
      "11838\n",
      "11844\n",
      "11850\n",
      "11856\n",
      "11862\n",
      "11868\n",
      "11874\n",
      "11880\n",
      "11886\n",
      "11892\n",
      "11898\n",
      "11904\n",
      "11910\n",
      "11916\n",
      "11922\n",
      "11928\n",
      "11934\n",
      "11940\n",
      "11946\n",
      "11952\n",
      "11958\n",
      "11964\n",
      "11970\n",
      "11976\n",
      "11982\n",
      "11988\n",
      "11994\n",
      "12000\n"
     ]
    }
   ],
   "source": [
    "for x in range(9000,12006,6):\n",
    "  trans_id = test.iloc[x,1]\n",
    "  transcript_temp = transcripts[f'{trans_id}']\n",
    "  question_temp = test[test['Transcript']==trans_id]\n",
    "  result_temp = pat_info(transcript_pat= transcript_temp, question_pat= question_temp)\n",
    "  result_df = result_df._append(result_temp)\n",
    "  print(x)\n"
   ]
  },
  {
   "cell_type": "code",
   "execution_count": 36,
   "outputs": [
    {
     "data": {
      "text/plain": "                                       0  \\\n0   c6d724db-e267-4056-8f9c-9f2887886a65   \n1   0e9ee56b-ed99-471b-9972-d37e3dfc860a   \n2   54b9098d-0eeb-4804-9cf0-79ac61ed34da   \n3   33825754-c807-475e-8099-2bd1b89650ca   \n4   6a2e0284-bf47-4046-aafb-168f2b48ade6   \n..                                   ...   \n1   428968b3-e04b-4808-b71b-20ed93aaf0ed   \n2   3bd96a7e-b685-447a-8f23-75528b5a1b79   \n3   82599e32-beff-460e-aa3f-b674fd9f7b4f   \n4   528995c3-2f67-413d-bf46-ea138fdb4c62   \n5   e50a7545-04d1-4be5-8d74-e6f00c636c1f   \n\n                                                    1  \n0                The patient's name is Tracie Steele.  \n1                  The patient's age is 70 years old.  \n2             The patient's condition is hepatitis A.  \n3   The patient, Tracie Steele, is experiencing sy...  \n4   The doctor advised Tracie Steele to consult th...  \n..                                                ...  \n1   The patient's age is not provided in the given...  \n2                     The patient has osteoarthritis.  \n3   The patient is experiencing neck pain and swel...  \n4   The doctor advised Ms. Woods to monitor any ch...  \n5   The doctor did not prescribe any medication in...  \n\n[3048 rows x 2 columns]",
      "text/html": "<div>\n<style scoped>\n    .dataframe tbody tr th:only-of-type {\n        vertical-align: middle;\n    }\n\n    .dataframe tbody tr th {\n        vertical-align: top;\n    }\n\n    .dataframe thead th {\n        text-align: right;\n    }\n</style>\n<table border=\"1\" class=\"dataframe\">\n  <thead>\n    <tr style=\"text-align: right;\">\n      <th></th>\n      <th>0</th>\n      <th>1</th>\n    </tr>\n  </thead>\n  <tbody>\n    <tr>\n      <th>0</th>\n      <td>c6d724db-e267-4056-8f9c-9f2887886a65</td>\n      <td>The patient's name is Tracie Steele.</td>\n    </tr>\n    <tr>\n      <th>1</th>\n      <td>0e9ee56b-ed99-471b-9972-d37e3dfc860a</td>\n      <td>The patient's age is 70 years old.</td>\n    </tr>\n    <tr>\n      <th>2</th>\n      <td>54b9098d-0eeb-4804-9cf0-79ac61ed34da</td>\n      <td>The patient's condition is hepatitis A.</td>\n    </tr>\n    <tr>\n      <th>3</th>\n      <td>33825754-c807-475e-8099-2bd1b89650ca</td>\n      <td>The patient, Tracie Steele, is experiencing sy...</td>\n    </tr>\n    <tr>\n      <th>4</th>\n      <td>6a2e0284-bf47-4046-aafb-168f2b48ade6</td>\n      <td>The doctor advised Tracie Steele to consult th...</td>\n    </tr>\n    <tr>\n      <th>...</th>\n      <td>...</td>\n      <td>...</td>\n    </tr>\n    <tr>\n      <th>1</th>\n      <td>428968b3-e04b-4808-b71b-20ed93aaf0ed</td>\n      <td>The patient's age is not provided in the given...</td>\n    </tr>\n    <tr>\n      <th>2</th>\n      <td>3bd96a7e-b685-447a-8f23-75528b5a1b79</td>\n      <td>The patient has osteoarthritis.</td>\n    </tr>\n    <tr>\n      <th>3</th>\n      <td>82599e32-beff-460e-aa3f-b674fd9f7b4f</td>\n      <td>The patient is experiencing neck pain and swel...</td>\n    </tr>\n    <tr>\n      <th>4</th>\n      <td>528995c3-2f67-413d-bf46-ea138fdb4c62</td>\n      <td>The doctor advised Ms. Woods to monitor any ch...</td>\n    </tr>\n    <tr>\n      <th>5</th>\n      <td>e50a7545-04d1-4be5-8d74-e6f00c636c1f</td>\n      <td>The doctor did not prescribe any medication in...</td>\n    </tr>\n  </tbody>\n</table>\n<p>3048 rows × 2 columns</p>\n</div>"
     },
     "execution_count": 36,
     "metadata": {},
     "output_type": "execute_result"
    }
   ],
   "source": [
    "result_df"
   ],
   "metadata": {
    "collapsed": false,
    "ExecuteTime": {
     "end_time": "2023-11-10T20:08:16.229911Z",
     "start_time": "2023-11-10T20:08:16.221908900Z"
    }
   }
  },
  {
   "cell_type": "code",
   "execution_count": 15,
   "outputs": [],
   "source": [
    "finaldf = result_df"
   ],
   "metadata": {
    "collapsed": false,
    "ExecuteTime": {
     "end_time": "2023-11-11T19:40:11.912333700Z",
     "start_time": "2023-11-11T19:40:11.898338200Z"
    }
   }
  },
  {
   "cell_type": "code",
   "execution_count": 16,
   "outputs": [
    {
     "data": {
      "text/plain": "                                       0  \\\n0   3ab8e08a-a37e-47d9-b62b-b8632a4ed020   \n1   a4f87db1-0a8a-41e0-a95e-1de592ea1135   \n2   a5538a62-2c21-4559-9112-4bbf31f77cc4   \n3   9795e804-730e-4e23-80f4-b819bdc2c902   \n4   7beae5b4-9e6d-41c5-b5a4-40fab6820850   \n..                                   ...   \n1   89f03c30-3b65-4241-9157-9362f56381e6   \n2   25bf4a39-edd7-40d5-8c55-9ae5a6fdee08   \n3   774a32b8-237d-42f1-9907-d14d27d43858   \n4   9fe29c8e-7189-4c47-ab27-c01d61cf39fc   \n5   ca6e4182-916f-473e-8d37-2395346afc7c   \n\n                                                    1  \n0               The patient's name is Brian Williams.  \n1                  The patient's age is 89 years old.  \n2               The patient's condition is Pneumonia.  \n3   The patient, Mr. Brian Williams, is experienci...  \n4   The doctor advised Mr. Williams to take medica...  \n..                                                ...  \n1   The patient's age is not provided in the given...  \n2   Based on the transcript provided, the patient'...  \n3   The patient is experiencing indigestion, inter...  \n4   The doctor advised Mr. Burns to avoid fatty an...  \n5   The doctor did not prescribe any medication in...  \n\n[3006 rows x 2 columns]",
      "text/html": "<div>\n<style scoped>\n    .dataframe tbody tr th:only-of-type {\n        vertical-align: middle;\n    }\n\n    .dataframe tbody tr th {\n        vertical-align: top;\n    }\n\n    .dataframe thead th {\n        text-align: right;\n    }\n</style>\n<table border=\"1\" class=\"dataframe\">\n  <thead>\n    <tr style=\"text-align: right;\">\n      <th></th>\n      <th>0</th>\n      <th>1</th>\n    </tr>\n  </thead>\n  <tbody>\n    <tr>\n      <th>0</th>\n      <td>3ab8e08a-a37e-47d9-b62b-b8632a4ed020</td>\n      <td>The patient's name is Brian Williams.</td>\n    </tr>\n    <tr>\n      <th>1</th>\n      <td>a4f87db1-0a8a-41e0-a95e-1de592ea1135</td>\n      <td>The patient's age is 89 years old.</td>\n    </tr>\n    <tr>\n      <th>2</th>\n      <td>a5538a62-2c21-4559-9112-4bbf31f77cc4</td>\n      <td>The patient's condition is Pneumonia.</td>\n    </tr>\n    <tr>\n      <th>3</th>\n      <td>9795e804-730e-4e23-80f4-b819bdc2c902</td>\n      <td>The patient, Mr. Brian Williams, is experienci...</td>\n    </tr>\n    <tr>\n      <th>4</th>\n      <td>7beae5b4-9e6d-41c5-b5a4-40fab6820850</td>\n      <td>The doctor advised Mr. Williams to take medica...</td>\n    </tr>\n    <tr>\n      <th>...</th>\n      <td>...</td>\n      <td>...</td>\n    </tr>\n    <tr>\n      <th>1</th>\n      <td>89f03c30-3b65-4241-9157-9362f56381e6</td>\n      <td>The patient's age is not provided in the given...</td>\n    </tr>\n    <tr>\n      <th>2</th>\n      <td>25bf4a39-edd7-40d5-8c55-9ae5a6fdee08</td>\n      <td>Based on the transcript provided, the patient'...</td>\n    </tr>\n    <tr>\n      <th>3</th>\n      <td>774a32b8-237d-42f1-9907-d14d27d43858</td>\n      <td>The patient is experiencing indigestion, inter...</td>\n    </tr>\n    <tr>\n      <th>4</th>\n      <td>9fe29c8e-7189-4c47-ab27-c01d61cf39fc</td>\n      <td>The doctor advised Mr. Burns to avoid fatty an...</td>\n    </tr>\n    <tr>\n      <th>5</th>\n      <td>ca6e4182-916f-473e-8d37-2395346afc7c</td>\n      <td>The doctor did not prescribe any medication in...</td>\n    </tr>\n  </tbody>\n</table>\n<p>3006 rows × 2 columns</p>\n</div>"
     },
     "execution_count": 16,
     "metadata": {},
     "output_type": "execute_result"
    }
   ],
   "source": [
    "finaldf"
   ],
   "metadata": {
    "collapsed": false,
    "ExecuteTime": {
     "end_time": "2023-11-11T19:40:15.328950800Z",
     "start_time": "2023-11-11T19:40:15.313627400Z"
    }
   }
  },
  {
   "cell_type": "markdown",
   "metadata": {
    "collapsed": false,
    "jupyter": {
     "outputs_hidden": false
    }
   },
   "source": []
  }
 ],
 "metadata": {
  "kernelspec": {
   "display_name": "Python 3 (ipykernel)",
   "language": "python",
   "name": "python3"
  },
  "language_info": {
   "codemirror_mode": {
    "name": "ipython",
    "version": 3
   },
   "file_extension": ".py",
   "mimetype": "text/x-python",
   "name": "python",
   "nbconvert_exporter": "python",
   "pygments_lexer": "ipython3",
   "version": "3.11.4"
  }
 },
 "nbformat": 4,
 "nbformat_minor": 4
}
